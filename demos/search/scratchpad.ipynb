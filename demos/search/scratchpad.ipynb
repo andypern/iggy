{
 "cells": [
  {
   "cell_type": "code",
   "execution_count": 9,
   "metadata": {
    "collapsed": false
   },
   "outputs": [
    {
     "name": "stdout",
     "output_type": "stream",
     "text": [
      "file : filename\n",
      "full path: bucket/dir1/dir2/dir3/filename\n",
      "child directory: dir3\n",
      "root directory: bucket\n",
      "full path: bucket/dir1/dir2/dir3/\n"
     ]
    }
   ],
   "source": [
    " mypaths = []\n",
    "\n",
    "mypaths.append('/bucket/dir1/dir2/dir3/filename')\n",
    "mypaths.append('/bucket/dir1/dir2/dir3/')\n",
    "\n",
    "for paths in mypaths:\n",
    "    \n",
    " \n",
    "    if paths.split('/')[-1].strip():\n",
    "        #this means its a file, and not an empty string\n",
    "        #\n",
    "        #but, we *do* want the directories leading up to it\n",
    "        #\n",
    "        \n",
    "        print 'file : %s' %(paths.split('/')[-1])\n",
    "        \n",
    "    else:\n",
    "        #this means its a 'directory'. \n",
    "        #\n",
    "        #now, we have to make sure that all of the 'intermediary' keys are added to the index as well.\n",
    "        # eg: /bucket/dir1/dir2/dir3/file -> all 3 dirs need to be added to the index.\n",
    "        # in order not to waste too many calls to ES for duplicate entries (eg: every put to the same folder)\n",
    "        # will result in lots of puts of the same intermediary directories, the entries can be pushed to a queue\n",
    "        # which is processed periodically and is de-duped.\n",
    "\n",
    "        #\n",
    "        #this is the child, we should put this right away\n",
    "        #\n",
    "        print \"child directory: %s\" %(paths.split('/')[-2])\n",
    "        #\n",
    "        #now for the root level directory\n",
    "        #\n",
    "        print \"root directory: %s\" %(paths.split('/')[1])\n",
    "    #\n",
    "    #now we want the full path, without leading /\n",
    "    #\n",
    "    print \"full path: %s\" %(paths.lstrip('/'))\n",
    "        \n"
   ]
  },
  {
   "cell_type": "code",
   "execution_count": 30,
   "metadata": {
    "collapsed": false
   },
   "outputs": [
    {
     "name": "stdout",
     "output_type": "stream",
     "text": [
      "[331457957656, 371240862991, 371243431447]\n"
     ]
    }
   ],
   "source": [
    "from itertools import islice\n",
    "\n",
    "myList = [\n",
    "    331457957656,\n",
    "        371240862991,\n",
    "        371243431447,\n",
    "        371217581281,\n",
    "        331882849259,\n",
    "        311640815689,\n",
    "        371656142827,\n",
    "        371191985094,\n",
    "        331455697356,\n",
    "        311176185716]\n",
    "\n",
    "\n",
    "def chunk(it, size):\n",
    "    it = iter(it)\n",
    "    return iter(lambda: tuple(islice(it, size)), ())\n",
    "\n",
    "chunked_list = list(chunk(myList,3))\n",
    "\n",
    "print list(chunked_list[0])\n"
   ]
  },
  {
   "cell_type": "code",
   "execution_count": 41,
   "metadata": {
    "collapsed": false
   },
   "outputs": [
    {
     "name": "stdout",
     "output_type": "stream",
     "text": [
      "{'key1': {'key2': {'key3': {'key4': 'hah'}}}}\n"
     ]
    }
   ],
   "source": [
    "class Ddict(dict):\n",
    "    def __init__(self, default=None):\n",
    "        self.default = default\n",
    "\n",
    "    def __getitem__(self, key):\n",
    "        if not self.has_key(key):\n",
    "            self[key] = self.default()\n",
    "        return dict.__getitem__(self, key)\n",
    "    \n",
    "temp_hash = Ddict( dict ) \n",
    "temp_hash['key1']['key2'] = {}\n",
    "temp_hash['key1']['key2']['key3'] = {}\n",
    "temp_hash['key1']['key2']['key3']['key4'] = 'hah'\n",
    "\n",
    "\n",
    "print temp_hash"
   ]
  },
  {
   "cell_type": "code",
   "execution_count": 45,
   "metadata": {
    "collapsed": false
   },
   "outputs": [
    {
     "ename": "AttributeError",
     "evalue": "_getexif",
     "output_type": "error",
     "traceback": [
      "\u001b[0;31m---------------------------------------------------------------------------\u001b[0m",
      "\u001b[0;31mAttributeError\u001b[0m                            Traceback (most recent call last)",
      "\u001b[0;32m<ipython-input-45-b9d4caec86db>\u001b[0m in \u001b[0;36m<module>\u001b[0;34m()\u001b[0m\n\u001b[1;32m      1\u001b[0m \u001b[0;32mimport\u001b[0m \u001b[0mPIL\u001b[0m\u001b[0;34m.\u001b[0m\u001b[0mImage\u001b[0m\u001b[0;34m\u001b[0m\u001b[0m\n\u001b[1;32m      2\u001b[0m \u001b[0mimg\u001b[0m \u001b[0;34m=\u001b[0m \u001b[0mPIL\u001b[0m\u001b[0;34m.\u001b[0m\u001b[0mImage\u001b[0m\u001b[0;34m.\u001b[0m\u001b[0mopen\u001b[0m\u001b[0;34m(\u001b[0m\u001b[0;34m'/Users/andypern/Desktop/trump.png'\u001b[0m\u001b[0;34m)\u001b[0m\u001b[0;34m\u001b[0m\u001b[0m\n\u001b[0;32m----> 3\u001b[0;31m \u001b[0mexif_data\u001b[0m \u001b[0;34m=\u001b[0m \u001b[0mimg\u001b[0m\u001b[0;34m.\u001b[0m\u001b[0m_getexif\u001b[0m\u001b[0;34m(\u001b[0m\u001b[0;34m)\u001b[0m\u001b[0;34m\u001b[0m\u001b[0m\n\u001b[0m\u001b[1;32m      4\u001b[0m \u001b[0;32mprint\u001b[0m \u001b[0mexif_data\u001b[0m\u001b[0;34m\u001b[0m\u001b[0m\n",
      "\u001b[0;32m/usr/local/lib/python2.7/site-packages/PIL/Image.pyc\u001b[0m in \u001b[0;36m__getattr__\u001b[0;34m(self, name)\u001b[0m\n\u001b[1;32m    625\u001b[0m             \u001b[0mnew\u001b[0m\u001b[0;34m[\u001b[0m\u001b[0;34m'version'\u001b[0m\u001b[0;34m]\u001b[0m \u001b[0;34m=\u001b[0m \u001b[0;36m3\u001b[0m\u001b[0;34m\u001b[0m\u001b[0m\n\u001b[1;32m    626\u001b[0m             \u001b[0;32mreturn\u001b[0m \u001b[0mnew\u001b[0m\u001b[0;34m\u001b[0m\u001b[0m\n\u001b[0;32m--> 627\u001b[0;31m         \u001b[0;32mraise\u001b[0m \u001b[0mAttributeError\u001b[0m\u001b[0;34m(\u001b[0m\u001b[0mname\u001b[0m\u001b[0;34m)\u001b[0m\u001b[0;34m\u001b[0m\u001b[0m\n\u001b[0m\u001b[1;32m    628\u001b[0m \u001b[0;34m\u001b[0m\u001b[0m\n\u001b[1;32m    629\u001b[0m     \u001b[0;32mdef\u001b[0m \u001b[0m__getstate__\u001b[0m\u001b[0;34m(\u001b[0m\u001b[0mself\u001b[0m\u001b[0;34m)\u001b[0m\u001b[0;34m:\u001b[0m\u001b[0;34m\u001b[0m\u001b[0m\n",
      "\u001b[0;31mAttributeError\u001b[0m: _getexif"
     ]
    }
   ],
   "source": [
    "import PIL.ExifTags\n",
    "exif = {\n",
    "    PIL.ExifTags.TAGS[k]: v\n",
    "    for k, v in img._getexif().items()\n",
    "    if k in PIL.ExifTags.TAGS\n",
    "}\n"
   ]
  },
  {
   "cell_type": "code",
   "execution_count": null,
   "metadata": {
    "collapsed": true
   },
   "outputs": [],
   "source": []
  }
 ],
 "metadata": {
  "kernelspec": {
   "display_name": "Python 2",
   "language": "python",
   "name": "python2"
  },
  "language_info": {
   "codemirror_mode": {
    "name": "ipython",
    "version": 2
   },
   "file_extension": ".py",
   "mimetype": "text/x-python",
   "name": "python",
   "nbconvert_exporter": "python",
   "pygments_lexer": "ipython2",
   "version": "2.7.11"
  }
 },
 "nbformat": 4,
 "nbformat_minor": 0
}
