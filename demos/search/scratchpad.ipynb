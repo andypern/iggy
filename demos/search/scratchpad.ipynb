{
 "cells": [
  {
   "cell_type": "code",
   "execution_count": 8,
   "metadata": {
    "collapsed": false
   },
   "outputs": [
    {
     "name": "stdout",
     "output_type": "stream",
     "text": [
      "file : filename\n",
      "filename\n",
      "full path: bucket/dir1/dir2/dir3/filename\n",
      "leading path: /bucket/dir1/dir2/dir3/\n",
      "0\n",
      "\n",
      "1\n",
      "bucket\n",
      "2\n",
      "dir1\n",
      "3\n",
      "dir2\n",
      "4\n",
      "dir3\n",
      "5\n",
      "filename\n"
     ]
    }
   ],
   "source": [
    " mypaths = []\n",
    "\n",
    "mypaths.append('/bucket/dir1/dir2/dir3/filename')\n",
    "\n",
    "for paths in mypaths:\n",
    "    \n",
    "    myFile = \"\"\n",
    "    if paths.split('/')[-1].strip():\n",
    "        #this means its a file, and not an empty string\n",
    "        #\n",
    "        #but, we *do* want the directories leading up to it\n",
    "        #\n",
    "        \n",
    "        print 'file : %s' %(paths.split('/')[-1])\n",
    "        myFile = paths.split('/')[-1]\n",
    "        \n",
    "    else:\n",
    "          #child\n",
    "        print \"child directory: %s\" %(paths.split('/')[-2])\n",
    "        #\n",
    "        #now for the root level directory\n",
    "        #\n",
    "        print \"root directory: %s\" %(paths.split('/')[1])\n",
    "        \n",
    "    #\n",
    "    #now we want the full path, without leading /\n",
    "    #\n",
    "    print myFile\n",
    "    print \"full path: %s\" %(paths.lstrip('/'))\n",
    "    print \"leading path: %s\" %(paths.rstrip(myFile))\n",
    "        \n",
    "        #iterate through all of the thigns\n",
    "    for dir in paths.split('/'):\n",
    "        #print dir\n",
    "        next\n",
    "        \n",
    "    #lets try to go one at a time, starting with bottom level.\n",
    "    for path in range(len(paths.split('/'))):\n",
    "        print path\n",
    "        print paths.split('/')[path]\n",
    "    \n"
   ]
  },
  {
   "cell_type": "code",
   "execution_count": 4,
   "metadata": {
    "collapsed": false
   },
   "outputs": [
    {
     "name": "stdout",
     "output_type": "stream",
     "text": [
      "0\n",
      "1\n",
      "2\n",
      "3\n",
      "4\n",
      "5\n",
      "6\n",
      "7\n",
      "8\n",
      "9\n",
      "10\n"
     ]
    },
    {
     "ename": "Full",
     "evalue": "",
     "output_type": "error",
     "traceback": [
      "\u001b[0;31m---------------------------------------------------------------------------\u001b[0m",
      "\u001b[0;31mFull\u001b[0m                                      Traceback (most recent call last)",
      "\u001b[0;32m<ipython-input-4-1500cbecd0b8>\u001b[0m in \u001b[0;36m<module>\u001b[0;34m()\u001b[0m\n\u001b[1;32m      5\u001b[0m \u001b[0;32mfor\u001b[0m \u001b[0mi\u001b[0m \u001b[0;32min\u001b[0m \u001b[0mrange\u001b[0m\u001b[0;34m(\u001b[0m\u001b[0;36m15\u001b[0m\u001b[0;34m)\u001b[0m\u001b[0;34m:\u001b[0m\u001b[0;34m\u001b[0m\u001b[0m\n\u001b[1;32m      6\u001b[0m     \u001b[0;32mprint\u001b[0m \u001b[0mi\u001b[0m\u001b[0;34m\u001b[0m\u001b[0m\n\u001b[0;32m----> 7\u001b[0;31m     \u001b[0mmyq\u001b[0m\u001b[0;34m.\u001b[0m\u001b[0mput\u001b[0m\u001b[0;34m(\u001b[0m\u001b[0mi\u001b[0m\u001b[0;34m,\u001b[0m \u001b[0mTrue\u001b[0m\u001b[0;34m,\u001b[0m\u001b[0;36m5\u001b[0m\u001b[0;34m)\u001b[0m\u001b[0;34m\u001b[0m\u001b[0m\n\u001b[0m\u001b[1;32m      8\u001b[0m \u001b[0;34m\u001b[0m\u001b[0m\n\u001b[1;32m      9\u001b[0m \u001b[0;32mprint\u001b[0m \u001b[0;34m\"done\"\u001b[0m\u001b[0;34m\u001b[0m\u001b[0m\n",
      "\u001b[0;32m/usr/local/Cellar/python/2.7.11/Frameworks/Python.framework/Versions/2.7/lib/python2.7/Queue.pyc\u001b[0m in \u001b[0;36mput\u001b[0;34m(self, item, block, timeout)\u001b[0m\n\u001b[1;32m    132\u001b[0m                         \u001b[0mremaining\u001b[0m \u001b[0;34m=\u001b[0m \u001b[0mendtime\u001b[0m \u001b[0;34m-\u001b[0m \u001b[0m_time\u001b[0m\u001b[0;34m(\u001b[0m\u001b[0;34m)\u001b[0m\u001b[0;34m\u001b[0m\u001b[0m\n\u001b[1;32m    133\u001b[0m                         \u001b[0;32mif\u001b[0m \u001b[0mremaining\u001b[0m \u001b[0;34m<=\u001b[0m \u001b[0;36m0.0\u001b[0m\u001b[0;34m:\u001b[0m\u001b[0;34m\u001b[0m\u001b[0m\n\u001b[0;32m--> 134\u001b[0;31m                             \u001b[0;32mraise\u001b[0m \u001b[0mFull\u001b[0m\u001b[0;34m\u001b[0m\u001b[0m\n\u001b[0m\u001b[1;32m    135\u001b[0m                         \u001b[0mself\u001b[0m\u001b[0;34m.\u001b[0m\u001b[0mnot_full\u001b[0m\u001b[0;34m.\u001b[0m\u001b[0mwait\u001b[0m\u001b[0;34m(\u001b[0m\u001b[0mremaining\u001b[0m\u001b[0;34m)\u001b[0m\u001b[0;34m\u001b[0m\u001b[0m\n\u001b[1;32m    136\u001b[0m             \u001b[0mself\u001b[0m\u001b[0;34m.\u001b[0m\u001b[0m_put\u001b[0m\u001b[0;34m(\u001b[0m\u001b[0mitem\u001b[0m\u001b[0;34m)\u001b[0m\u001b[0;34m\u001b[0m\u001b[0m\n",
      "\u001b[0;31mFull\u001b[0m: "
     ]
    }
   ],
   "source": [
    "import Queue\n",
    "\n",
    "myq = Queue.Queue(maxsize=10)\n",
    "\n",
    "for i in range(15):\n",
    "    print i\n",
    "    myq.put(i, True,5)\n",
    "\n",
    "print \"done\""
   ]
  },
  {
   "cell_type": "code",
   "execution_count": 3,
   "metadata": {
    "collapsed": false
   },
   "outputs": [
    {
     "name": "stdout",
     "output_type": "stream",
     "text": [
      "{'uid': '501', 'gname': 'staff', 'ctime': '1358043382', 'uname': 'Kiran', 'gid': '20', 'mode': '33279', 'mtime': '1209595790', 'atime': '1456771183', 'md5': '215123d26bfa05f665d66174b0446818'}\n"
     ]
    }
   ],
   "source": [
    "attrs = 'uid:501/gname:staff/uname:Kiran/gid:20/mode:33279/mtime:1209595790/atime:1456771183/md5:215123d26bfa05f665d66174b0446818/ctime:1358043382'\n",
    "attr_hash = {}\n",
    "for attr in attrs.split('/'):  \n",
    "    aKey = attr.split(':')[0]\n",
    "    aVal = attr.split(':')[1]\n",
    "    attr_hash[aKey] = aVal\n",
    "print attr_hash"
   ]
  },
  {
   "cell_type": "code",
   "execution_count": null,
   "metadata": {
    "collapsed": false
   },
   "outputs": [],
   "source": []
  },
  {
   "cell_type": "code",
   "execution_count": null,
   "metadata": {
    "collapsed": true
   },
   "outputs": [],
   "source": []
  }
 ],
 "metadata": {
  "kernelspec": {
   "display_name": "Python 2",
   "language": "python",
   "name": "python2"
  },
  "language_info": {
   "codemirror_mode": {
    "name": "ipython",
    "version": 2
   },
   "file_extension": ".py",
   "mimetype": "text/x-python",
   "name": "python",
   "nbconvert_exporter": "python",
   "pygments_lexer": "ipython2",
   "version": "2.7.11"
  }
 },
 "nbformat": 4,
 "nbformat_minor": 0
}
