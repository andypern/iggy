{
 "cells": [
  {
   "cell_type": "markdown",
   "metadata": {},
   "source": [
    "# Python lab\n",
    "\n",
    "\n",
    "## Other reading\n",
    "\n",
    "You may also find information on using the boto3 python library here:\n",
    "\n",
    "* [Using Boto3 - AWS's SDK for Python](https://igneoussystemshelp.zendesk.com/knowledge/articles/222814587)\n",
    "\n",
    "* [Boto3 - Retry operations](https://igneoussystemshelp.zendesk.com/knowledge/articles/223204708)\n",
    "\n",
    "\n",
    "## Import modules\n",
    "To begin with, execute the following code to import the modules needed for this exercise:"
   ]
  },
  {
   "cell_type": "code",
   "execution_count": null,
   "metadata": {
    "collapsed": true
   },
   "outputs": [],
   "source": [
    "import boto3\n",
    "import tempfile\n",
    "\n",
    "import botocore.utils as boto_utils\n",
    "\n",
    "print \"imported modules\"\n"
   ]
  },
  {
   "cell_type": "markdown",
   "metadata": {},
   "source": [
    "## Instantiate variables\n",
    "You'll need to input a few things in order to get started.  \n",
    "'bucket': This is your target bucket, similar to a filesystem directory without the hierarchy. In the Igneous User Interface, buckets are referred to as containers.   \n",
    "\n",
    "**'access_key'**: The access key which identifies who you are to the server.  You can obtain this from your IT administrator.  This is similar to a ‘username’.\n",
    "\n",
    "**'secret_key'**: A secret key which authenticates you to the server.  You would also obtain this from your IT administrator.  This is similar to a ‘password’.  As such, you should refrain from storing the secret_key directly in your scripts, especially if they are to be placed in a shared location.  \n",
    "\n",
    "**'endpoint_url'**: This is the URL which hosts your Igneous Data Service.  If you are unsure what to put here, please consult with your IT Administrator.  Typically the endpoint URL would look something like this:  http://igneous.company.com:80 , or https://igneous.company.com:443.\n",
    "\n",
    "**Note: if you specify a URL which contains ‘https’ , you will need to change the ‘use_ssl’ parameter to ‘True’.**"
   ]
  },
  {
   "cell_type": "code",
   "execution_count": null,
   "metadata": {
    "collapsed": true
   },
   "outputs": [],
   "source": [
    "access_key=''\n",
    "secret_key=''\n",
    "endpoint_url='http://demo.iggy.bz:7070'\n",
    "use_ssl = False\n",
    "\n",
    "print \"variables set\"\n"
   ]
  },
  {
   "cell_type": "markdown",
   "metadata": {},
   "source": [
    "## Setup connection parameters\n",
    "\n",
    "You don't need to change anything here, but take notice of what we're doing. Baiscally, we're taking the access_key and secret-key , and creating a session object which we will later use to establish a connection."
   ]
  },
  {
   "cell_type": "code",
   "execution_count": null,
   "metadata": {
    "collapsed": true
   },
   "outputs": [],
   "source": [
    "\n",
    "def boto3_session(access_key, secret_key):\n",
    "\n",
    "    return boto3.Session(\n",
    "        aws_access_key_id=access_key,\n",
    "        aws_secret_access_key=secret_key)\n",
    "\n",
    "print \"session function created\"\n"
   ]
  },
  {
   "cell_type": "markdown",
   "metadata": {},
   "source": [
    "Once we h ave the session object, Here's how to create a connection constructor.  Note that we're calling the 'boto3_session' function from within the boto3_s3_client function."
   ]
  },
  {
   "cell_type": "code",
   "execution_count": null,
   "metadata": {
    "collapsed": true
   },
   "outputs": [],
   "source": [
    "def boto3_s3_client(access_key, secret_key, endpoint_url):\n",
    "\n",
    "    # Create a session and then a client from it.\n",
    "    session = boto3_session(access_key, secret_key)\n",
    "    client = session.client(\n",
    "        's3',\n",
    "        region_name='iggy-1',\n",
    "        use_ssl=False,\n",
    "        verify=False,\n",
    "        endpoint_url=endpoint_url,\n",
    "        config=boto3.session.Config(\n",
    "            signature_version='s3',\n",
    "            s3={\n",
    "                'addressing_style': 'path'\n",
    "            }\n",
    "        ))\n",
    "\n",
    "    # All finished here. We can start using the client as expected now\n",
    "    return client\n",
    "\n",
    "print \"client function created\""
   ]
  },
  {
   "cell_type": "markdown",
   "metadata": {},
   "source": [
    "Now you can actually call it..note that it won't 'do' anything yet.  But we'll print out the object so you can verify that it returned."
   ]
  },
  {
   "cell_type": "code",
   "execution_count": null,
   "metadata": {
    "collapsed": true
   },
   "outputs": [],
   "source": [
    "\n",
    "client = boto3_s3_client(access_key, secret_key, endpoint_url)\n",
    "print client\n"
   ]
  },
  {
   "cell_type": "markdown",
   "metadata": {},
   "source": [
    "## Test connnection & List buckets\n",
    "Note that merely creating and executing a connection constructor isn't enough to know if its working, you actually have to *use* it.  Therefore, to test it out, lets have it list buckets"
   ]
  },
  {
   "cell_type": "code",
   "execution_count": null,
   "metadata": {
    "collapsed": true
   },
   "outputs": [],
   "source": [
    "def list_buckets(client):\n",
    "\n",
    "    # See the following URL for more details about this call:\n",
    "    # http://boto3.readthedocs.io/en/latest/reference/services/s3.html#S3.Client.list_buckets\n",
    "    lsb_resp = client.list_buckets()\n",
    "\n",
    "    for bucket in lsb_resp['Buckets']:\n",
    "        yield bucket['Name']"
   ]
  },
  {
   "cell_type": "markdown",
   "metadata": {},
   "source": [
    "Now call it, and see what prints out:"
   ]
  },
  {
   "cell_type": "code",
   "execution_count": null,
   "metadata": {
    "collapsed": true
   },
   "outputs": [],
   "source": [
    "\n",
    "bucket_list = list_buckets(client)\n",
    "\n",
    "for bucket in bucket_list:\n",
    "    print bucket\n"
   ]
  },
  {
   "cell_type": "markdown",
   "metadata": {},
   "source": [
    "## List objects\n",
    "\n",
    "Now that you know how to get a list of buckets, you can write a function to list the objects within one (or more) of them, provided your access/secret key has access.\n",
    "\n",
    "First, lets define the function:"
   ]
  },
  {
   "cell_type": "code",
   "execution_count": null,
   "metadata": {
    "collapsed": true
   },
   "outputs": [],
   "source": [
    "\n",
    "\n",
    "def list_objects(client, bucket):\n",
    "    \"\"\"\n",
    "    Return a generator that iterates through the keys contained within the\n",
    "    specified bucket.\n",
    "    \"\"\"\n",
    "\n",
    "    # See the following URL for more details about this call:\n",
    "    # http://boto3.readthedocs.io/en/latest/reference/services/s3.html#S3.Client.list_objects\n",
    "    lsb_resp = client.list_objects(\n",
    "        Bucket=bucket)\n",
    "\n",
    "    for obj in lsb_resp['Contents']:\n",
    "        yield obj['Key']\n",
    "\n",
    "print \"list_objects function created\""
   ]
  },
  {
   "cell_type": "markdown",
   "metadata": {},
   "source": [
    "Now, call it.  You will first have to define the bucket you want to list though.  Keep in mind that you probably don't want to choose a bucket that has a lot of objects in it, since the printout will take time and screen real estate."
   ]
  },
  {
   "cell_type": "code",
   "execution_count": null,
   "metadata": {
    "collapsed": true
   },
   "outputs": [],
   "source": [
    "\n",
    "bucket='mybucket'\n",
    "objList = list_objects(client, bucket)\n",
    "\n",
    "for objKey in objList:\n",
    "    print objKey\n"
   ]
  },
  {
   "cell_type": "markdown",
   "metadata": {},
   "source": [
    "## Put an object\n",
    "\n",
    "In order to put an object, you some content.  This can either be a file (more specifically, the contents of a file), or it can simply be some data (we'll use text data)\n",
    "\n",
    "First you'll set a variable to hold some text, and we'll shove it into a tempfile."
   ]
  },
  {
   "cell_type": "code",
   "execution_count": null,
   "metadata": {
    "collapsed": true
   },
   "outputs": [],
   "source": [
    "\n",
    "TEST_TEXT = ('Lorem ipsum dolor sit amet, consectetur adipiscing elit, sed do '\n",
    "             'eiusmod tempor incididunt ut labore et dolore magna aliqua.')\n",
    "\n",
    "fd = tempfile.TemporaryFile()\n",
    "fd.write(TEST_TEXT)\n",
    "fd.flush()\n",
    "fd.seek(0)\n",
    "\n",
    "print fd.read()"
   ]
  },
  {
   "cell_type": "markdown",
   "metadata": {},
   "source": [
    "Next, lets define a function which will do the actual work of uploading:"
   ]
  },
  {
   "cell_type": "code",
   "execution_count": null,
   "metadata": {
    "collapsed": true
   },
   "outputs": [],
   "source": [
    "def put_object(client, bucket, key, fd):\n",
    "\n",
    "    # See the following URL for more details about this call:\n",
    "    # http://boto3.readthedocs.io/en/latest/reference/services/s3.html#S3.Client.put_object\n",
    "    put_resp = client.put_object(\n",
    "        Body=fd,\n",
    "        Bucket=bucket,\n",
    "        Key=key\n",
    "    )\n",
    "\n",
    "    # Return the object's version\n",
    "    return put_resp['VersionId']\n",
    "\n",
    "print \"put_object function defined\""
   ]
  },
  {
   "cell_type": "markdown",
   "metadata": {},
   "source": [
    "In order to run it, we'll call it and pass it some variables & objects that we got from before:"
   ]
  },
  {
   "cell_type": "code",
   "execution_count": null,
   "metadata": {
    "collapsed": true
   },
   "outputs": [],
   "source": [
    "objKey = \"tempfile\"\n",
    "put_object(client,bucket,objKey,fd)\n",
    "fd.close()\n"
   ]
  },
  {
   "cell_type": "markdown",
   "metadata": {},
   "source": [
    "## Get object\n",
    "\n",
    "So you uploaded an object, congrats!  next, lets define a function that will perform a 'get' on that object, and print the contents out to the screen."
   ]
  },
  {
   "cell_type": "code",
   "execution_count": null,
   "metadata": {
    "collapsed": true
   },
   "outputs": [],
   "source": [
    "def get_object(client, bucket, key):\n",
    "\n",
    "    # See the following URL for more details about this call:\n",
    "    # http://boto3.readthedocs.io/en/latest/reference/services/s3.html#S3.Client.get_object\n",
    "    get_resp = client.get_object(\n",
    "        Bucket=bucket,\n",
    "        Key=key)\n",
    "\n",
    "    return get_resp['Body']"
   ]
  },
  {
   "cell_type": "markdown",
   "metadata": {},
   "source": [
    "Now call it, specifying the key name."
   ]
  },
  {
   "cell_type": "code",
   "execution_count": null,
   "metadata": {
    "collapsed": true
   },
   "outputs": [],
   "source": [
    "\n",
    "objKey = \"mykey\"\n",
    "objContents = get_object(client, bucket, objKey)\n",
    "print objContents\n",
    "\n"
   ]
  },
  {
   "cell_type": "markdown",
   "metadata": {},
   "source": [
    "## Delete object\n",
    "\n",
    "now its time to cleanup after yourself, basically you want to delete the object you just created.\n",
    "\n",
    "First, define the function:"
   ]
  },
  {
   "cell_type": "code",
   "execution_count": null,
   "metadata": {
    "collapsed": true
   },
   "outputs": [],
   "source": [
    "def delete_object(client, bucket, key):\n",
    "\n",
    "    # See the following URL for more details about this call:\n",
    "    # http://boto3.readthedocs.io/en/latest/reference/services/s3.html#S3.Client.delete_object\n",
    "    get_resp = client.delete_object(\n",
    "        Bucket=bucket,\n",
    "        Key=key)\n",
    "\n",
    "    return get_resp['VersionId']"
   ]
  },
  {
   "cell_type": "markdown",
   "metadata": {},
   "source": [
    "Now, actually call it"
   ]
  },
  {
   "cell_type": "code",
   "execution_count": null,
   "metadata": {
    "collapsed": true
   },
   "outputs": [],
   "source": [
    "\n",
    "delete_response = delete_object(client, bucket, objKey)\n",
    "print delete_response"
   ]
  },
  {
   "cell_type": "markdown",
   "metadata": {},
   "source": [
    "## string it all together\n",
    "\n",
    "well, what if you want to run all of this, at once?\n",
    "\n",
    "First, define a function that does all of the things we want:"
   ]
  },
  {
   "cell_type": "code",
   "execution_count": null,
   "metadata": {
    "collapsed": true
   },
   "outputs": [],
   "source": [
    "def run_example(bucket, access_key, secret_key, endpoint_url):\n",
    "\n",
    "    # Create a new client to play with\n",
    "    client = boto3_s3_client(access_key, secret_key, endpoint_url)\n",
    "\n",
    "    # List the buckets to see what's in the root context\n",
    "    print('Listing buckets...')\n",
    "    for b in list_buckets(client):\n",
    "        print(b)\n",
    "\n",
    "    # Let's generate something to put into a bucket\n",
    "    fd = tempfile.TemporaryFile()\n",
    "    fd.write(TEST_TEXT)\n",
    "\n",
    "    # Make sure the file is flushed and then seek to the start for reading\n",
    "    fd.flush()\n",
    "    fd.seek(0)\n",
    "\n",
    "    # Put the object - passing a file object here is okay\n",
    "    version_1 = put_object(client, bucket, 'test', fd)\n",
    "\n",
    "    # Clean up the temp file\n",
    "    fd.close()\n",
    "\n",
    "    # Put the object again - passing a string or bytearray also works for this call\n",
    "    version_2 = put_object(client, bucket, 'test', TEST_TEXT)\n",
    "\n",
    "    print('Version started at: {}. Latest object version: {}.'.format(\n",
    "        version_1, version_2))\n",
    "\n",
    "    # Get the object\n",
    "    object_fd = get_object(client, bucket, 'test')\n",
    "    object_content = object_fd.read()\n",
    "\n",
    "    print('Body of object: \"{}\"'.format(\n",
    "        object_content))\n",
    "\n",
    "    print('Put content matches retrieved content: {}'.format(\n",
    "        object_content == TEST_TEXT))\n",
    "\n",
    "    # List the objects in the bucket now\n",
    "    print('Listing objects...')\n",
    "    for key in list_objects(client, bucket):\n",
    "        print(key)\n",
    "\n",
    "    # Delete the object we put\n",
    "    del_version = delete_object(client, bucket, 'test')\n",
    "\n",
    "    print('Deleted object. Version is now: {}'.format(del_version))\n"
   ]
  },
  {
   "cell_type": "markdown",
   "metadata": {},
   "source": [
    "Now...run it."
   ]
  },
  {
   "cell_type": "code",
   "execution_count": null,
   "metadata": {
    "collapsed": true
   },
   "outputs": [],
   "source": [
    "# Run the example!\n",
    "if __name__ == '__main__':\n",
    "    run_example(\n",
    "        bucket='',\n",
    "        access_key='',\n",
    "        secret_key='',\n",
    "        endpoint_url='')"
   ]
  }
 ],
 "metadata": {
  "kernelspec": {
   "display_name": "Python 2",
   "language": "python",
   "name": "python2"
  },
  "language_info": {
   "codemirror_mode": {
    "name": "ipython",
    "version": 2
   },
   "file_extension": ".py",
   "mimetype": "text/x-python",
   "name": "python",
   "nbconvert_exporter": "python",
   "pygments_lexer": "ipython2",
   "version": "2.7.11"
  }
 },
 "nbformat": 4,
 "nbformat_minor": 0
}
