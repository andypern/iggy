{
 "cells": [
  {
   "cell_type": "markdown",
   "metadata": {},
   "source": [
    "# Python lab\n",
    "\n",
    "\n",
    "## Other reading\n",
    "\n",
    "You may also find information on using the boto3 python library here:\n",
    "\n",
    "* [Using Boto3 - AWS's SDK for Python](https://igneoussystemshelp.zendesk.com/knowledge/articles/222814587)\n",
    "\n",
    "* [Boto3 - Retry operations](https://igneoussystemshelp.zendesk.com/knowledge/articles/223204708)\n",
    "\n",
    "\n",
    "## Import modules\n",
    "To begin with, execute the following code to import the modules needed for this exercise:"
   ]
  },
  {
   "cell_type": "code",
   "execution_count": null,
   "metadata": {
    "collapsed": true
   },
   "outputs": [],
   "source": [
    "import boto3\n",
    "import tempfile\n",
    "\n",
    "import botocore.utils as boto_utils\n",
    "\n",
    "TEST_TEXT = ('Lorem ipsum dolor sit amet, consectetur adipiscing elit, sed do '\n",
    "             'eiusmod tempor incididunt ut labore et dolore magna aliqua.')\n",
    "\n",
    "def boto3_session(access_key, secret_key):\n",
    "\n",
    "    return boto3.Session(\n",
    "        aws_access_key_id=access_key,\n",
    "        aws_secret_access_key=secret_key)\n",
    "\n",
    "\n",
    "\n"
   ]
  },
  {
   "cell_type": "markdown",
   "metadata": {},
   "source": [
    "## Setup connection parameters\n",
    "Next, here's how to create a connection constructor"
   ]
  },
  {
   "cell_type": "code",
   "execution_count": null,
   "metadata": {
    "collapsed": true
   },
   "outputs": [],
   "source": [
    "def boto3_s3_client(access_key, secret_key, endpoint_url):\n",
    "\n",
    "    # Create a session and then a client from it.\n",
    "    session = boto3_session(access_key, secret_key)\n",
    "    client = session.client(\n",
    "        's3',\n",
    "        region_name='iggy-1',\n",
    "        use_ssl=False,\n",
    "        verify=False,\n",
    "        endpoint_url=endpoint_url,\n",
    "        config=boto3.session.Config(\n",
    "            signature_version='s3',\n",
    "            s3={\n",
    "                'addressing_style': 'path'\n",
    "            }\n",
    "        ))\n",
    "\n",
    "    # This minor workaround is required to avoid having boto3 attempt to fix\n",
    "    # a given endpoint_url using the AWS DNS pattern.\n",
    "    client.meta.events.unregister('before-sign.s3', boto_utils.fix_s3_host)\n",
    "\n",
    "    # All finished here. We can start using the client as expected now\n",
    "    return client"
   ]
  },
  {
   "cell_type": "code",
   "execution_count": null,
   "metadata": {
    "collapsed": true
   },
   "outputs": [],
   "source": [
    "def list_buckets(client):\n",
    "\n",
    "    # See the following URL for more details about this call:\n",
    "    # http://boto3.readthedocs.io/en/latest/reference/services/s3.html#S3.Client.list_buckets\n",
    "    lsb_resp = client.list_buckets()\n",
    "\n",
    "    for bucket in lsb_resp['Buckets']:\n",
    "        yield bucket['Name']"
   ]
  },
  {
   "cell_type": "code",
   "execution_count": null,
   "metadata": {
    "collapsed": true
   },
   "outputs": [],
   "source": [
    "\n",
    "def list_objects(client, bucket):\n",
    "    \"\"\"\n",
    "    Return a generator that iterates through the keys contained within the\n",
    "    specified bucket.\n",
    "    \"\"\"\n",
    "\n",
    "    # See the following URL for more details about this call:\n",
    "    # http://boto3.readthedocs.io/en/latest/reference/services/s3.html#S3.Client.list_objects\n",
    "    lsb_resp = client.list_objects(\n",
    "        Bucket=bucket)\n",
    "\n",
    "    for obj in lsb_resp['Contents']:\n",
    "        yield obj['Key']"
   ]
  },
  {
   "cell_type": "code",
   "execution_count": null,
   "metadata": {
    "collapsed": true
   },
   "outputs": [],
   "source": [
    "def put_object(client, bucket, key, fd):\n",
    "\n",
    "    # See the following URL for more details about this call:\n",
    "    # http://boto3.readthedocs.io/en/latest/reference/services/s3.html#S3.Client.put_object\n",
    "    put_resp = client.put_object(\n",
    "        Body=fd,\n",
    "        Bucket=bucket,\n",
    "        Key=key\n",
    "    )\n",
    "\n",
    "    # Return the object's version\n",
    "    return put_resp['VersionId']"
   ]
  },
  {
   "cell_type": "code",
   "execution_count": null,
   "metadata": {
    "collapsed": true
   },
   "outputs": [],
   "source": [
    "def get_object(client, bucket, key):\n",
    "\n",
    "    # See the following URL for more details about this call:\n",
    "    # http://boto3.readthedocs.io/en/latest/reference/services/s3.html#S3.Client.get_object\n",
    "    get_resp = client.get_object(\n",
    "        Bucket=bucket,\n",
    "        Key=key)\n",
    "\n",
    "    return get_resp['Body']"
   ]
  },
  {
   "cell_type": "code",
   "execution_count": null,
   "metadata": {
    "collapsed": true
   },
   "outputs": [],
   "source": [
    "def delete_object(client, bucket, key):\n",
    "\n",
    "    # See the following URL for more details about this call:\n",
    "    # http://boto3.readthedocs.io/en/latest/reference/services/s3.html#S3.Client.delete_object\n",
    "    get_resp = client.delete_object(\n",
    "        Bucket=bucket,\n",
    "        Key=key)\n",
    "\n",
    "    return get_resp['VersionId']"
   ]
  },
  {
   "cell_type": "code",
   "execution_count": null,
   "metadata": {
    "collapsed": true
   },
   "outputs": [],
   "source": [
    "def run_example(bucket, access_key, secret_key, endpoint_url):\n",
    "\n",
    "    # Create a new client to play with\n",
    "    client = boto3_s3_client(access_key, secret_key, endpoint_url)\n",
    "\n",
    "    # List the buckets to see what's in the root context\n",
    "    print('Listing buckets...')\n",
    "    for b in list_buckets(client):\n",
    "        print(b)\n",
    "\n",
    "    # Let's generate something to put into a bucket\n",
    "    fd = tempfile.TemporaryFile()\n",
    "    fd.write(TEST_TEXT)\n",
    "\n",
    "    # Make sure the file is flushed and then seek to the start for reading\n",
    "    fd.flush()\n",
    "    fd.seek(0)\n",
    "\n",
    "    # Put the object - passing a file object here is okay\n",
    "    version_1 = put_object(client, bucket, 'test', fd)\n",
    "\n",
    "    # Clean up the temp file\n",
    "    fd.close()\n",
    "\n",
    "    # Put the object again - passing a string or bytearray also works for this call\n",
    "    version_2 = put_object(client, bucket, 'test', TEST_TEXT)\n",
    "\n",
    "    print('Version started at: {}. Latest object version: {}.'.format(\n",
    "        version_1, version_2))\n",
    "\n",
    "    # Get the object\n",
    "    object_fd = get_object(client, bucket, 'test')\n",
    "    object_content = object_fd.read()\n",
    "\n",
    "    print('Body of object: \"{}\"'.format(\n",
    "        object_content))\n",
    "\n",
    "    print('Put content matches retrieved content: {}'.format(\n",
    "        object_content == TEST_TEXT))\n",
    "\n",
    "    # List the objects in the bucket now\n",
    "    print('Listing objects...')\n",
    "    for key in list_objects(client, bucket):\n",
    "        print(key)\n",
    "\n",
    "    # Delete the object we put\n",
    "    del_version = delete_object(client, bucket, 'test')\n",
    "\n",
    "    print('Deleted object. Version is now: {}'.format(del_version))\n"
   ]
  },
  {
   "cell_type": "code",
   "execution_count": null,
   "metadata": {
    "collapsed": true
   },
   "outputs": [],
   "source": [
    "# Run the example!\n",
    "if __name__ == '__main__':\n",
    "    run_example(\n",
    "        bucket='',\n",
    "        access_key='',\n",
    "        secret_key='',\n",
    "        endpoint_url='')"
   ]
  }
 ],
 "metadata": {
  "kernelspec": {
   "display_name": "Python 2",
   "language": "python",
   "name": "python2"
  },
  "language_info": {
   "codemirror_mode": {
    "name": "ipython",
    "version": 2
   },
   "file_extension": ".py",
   "mimetype": "text/x-python",
   "name": "python",
   "nbconvert_exporter": "python",
   "pygments_lexer": "ipython2",
   "version": "2.7.11"
  }
 },
 "nbformat": 4,
 "nbformat_minor": 0
}
