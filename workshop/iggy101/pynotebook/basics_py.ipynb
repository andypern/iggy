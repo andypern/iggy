{
 "cells": [
  {
   "cell_type": "code",
   "execution_count": 22,
   "metadata": {
    "collapsed": false
   },
   "outputs": [],
   "source": [
    "import boto3\n",
    "import tempfile\n",
    "\n",
    "import botocore.utils as boto_utils\n",
    "\n",
    "TEST_TEXT = ('Lorem ipsum dolor sit amet, consectetur adipiscing elit, sed do '\n",
    "             'eiusmod tempor incididunt ut labore et dolore magna aliqua.')\n",
    "\n",
    "def boto3_session(access_key, secret_key):\n",
    "\n",
    "    return boto3.Session(\n",
    "        aws_access_key_id=access_key,\n",
    "        aws_secret_access_key=secret_key)\n",
    "\n",
    "\n",
    "\n",
    "  "
   ]
  },
  {
   "cell_type": "code",
   "execution_count": 23,
   "metadata": {
    "collapsed": false
   },
   "outputs": [],
   "source": [
    "def boto3_s3_client(access_key, secret_key, endpoint_url):\n",
    "\n",
    "    # Create a session and then a client from it.\n",
    "    session = boto3_session(access_key, secret_key)\n",
    "    client = session.client(\n",
    "        's3',\n",
    "        region_name='iggy-1',\n",
    "        use_ssl=False,\n",
    "        verify=False,\n",
    "        endpoint_url=endpoint_url,\n",
    "        config=boto3.session.Config(\n",
    "            signature_version='s3',\n",
    "            s3={\n",
    "                'addressing_style': 'path'\n",
    "            }\n",
    "        ))\n",
    "\n",
    "    # This minor workaround is required to avoid having boto3 attempt to fix\n",
    "    # a given endpoint_url using the AWS DNS pattern.\n",
    "    client.meta.events.unregister('before-sign.s3', boto_utils.fix_s3_host)\n",
    "\n",
    "    # All finished here. We can start using the client as expected now\n",
    "    return client"
   ]
  },
  {
   "cell_type": "code",
   "execution_count": 24,
   "metadata": {
    "collapsed": true
   },
   "outputs": [],
   "source": [
    "def list_buckets(client):\n",
    "\n",
    "    # See the following URL for more details about this call:\n",
    "    # http://boto3.readthedocs.io/en/latest/reference/services/s3.html#S3.Client.list_buckets\n",
    "    lsb_resp = client.list_buckets()\n",
    "\n",
    "    for bucket in lsb_resp['Buckets']:\n",
    "        yield bucket['Name']"
   ]
  },
  {
   "cell_type": "code",
   "execution_count": 25,
   "metadata": {
    "collapsed": true
   },
   "outputs": [],
   "source": [
    "\n",
    "def list_objects(client, bucket):\n",
    "    \"\"\"\n",
    "    Return a generator that iterates through the keys contained within the\n",
    "    specified bucket.\n",
    "    \"\"\"\n",
    "\n",
    "    # See the following URL for more details about this call:\n",
    "    # http://boto3.readthedocs.io/en/latest/reference/services/s3.html#S3.Client.list_objects\n",
    "    lsb_resp = client.list_objects(\n",
    "        Bucket=bucket)\n",
    "\n",
    "    for obj in lsb_resp['Contents']:\n",
    "        yield obj['Key']"
   ]
  },
  {
   "cell_type": "code",
   "execution_count": 26,
   "metadata": {
    "collapsed": true
   },
   "outputs": [],
   "source": [
    "def put_object(client, bucket, key, fd):\n",
    "\n",
    "    # See the following URL for more details about this call:\n",
    "    # http://boto3.readthedocs.io/en/latest/reference/services/s3.html#S3.Client.put_object\n",
    "    put_resp = client.put_object(\n",
    "        Body=fd,\n",
    "        Bucket=bucket,\n",
    "        Key=key\n",
    "    )\n",
    "\n",
    "    # Return the object's version\n",
    "    return put_resp['VersionId']"
   ]
  },
  {
   "cell_type": "code",
   "execution_count": 27,
   "metadata": {
    "collapsed": true
   },
   "outputs": [],
   "source": [
    "def get_object(client, bucket, key):\n",
    "\n",
    "    # See the following URL for more details about this call:\n",
    "    # http://boto3.readthedocs.io/en/latest/reference/services/s3.html#S3.Client.get_object\n",
    "    get_resp = client.get_object(\n",
    "        Bucket=bucket,\n",
    "        Key=key)\n",
    "\n",
    "    return get_resp['Body']"
   ]
  },
  {
   "cell_type": "code",
   "execution_count": 28,
   "metadata": {
    "collapsed": true
   },
   "outputs": [],
   "source": [
    "def delete_object(client, bucket, key):\n",
    "\n",
    "    # See the following URL for more details about this call:\n",
    "    # http://boto3.readthedocs.io/en/latest/reference/services/s3.html#S3.Client.delete_object\n",
    "    get_resp = client.delete_object(\n",
    "        Bucket=bucket,\n",
    "        Key=key)\n",
    "\n",
    "    return get_resp['VersionId']"
   ]
  },
  {
   "cell_type": "code",
   "execution_count": 29,
   "metadata": {
    "collapsed": false
   },
   "outputs": [],
   "source": [
    "def run_example(bucket, access_key, secret_key, endpoint_url):\n",
    "\n",
    "    # Create a new client to play with\n",
    "    client = boto3_s3_client(access_key, secret_key, endpoint_url)\n",
    "\n",
    "    # List the buckets to see what's in the root context\n",
    "    print('Listing buckets...')\n",
    "    for b in list_buckets(client):\n",
    "        print(b)\n",
    "\n",
    "    # Let's generate something to put into a bucket\n",
    "    fd = tempfile.TemporaryFile()\n",
    "    fd.write(TEST_TEXT)\n",
    "\n",
    "    # Make sure the file is flushed and then seek to the start for reading\n",
    "    fd.flush()\n",
    "    fd.seek(0)\n",
    "\n",
    "    # Put the object - passing a file object here is okay\n",
    "    version_1 = put_object(client, bucket, 'test', fd)\n",
    "\n",
    "    # Clean up the temp file\n",
    "    fd.close()\n",
    "\n",
    "    # Put the object again - passing a string or bytearray also works for this call\n",
    "    version_2 = put_object(client, bucket, 'test', TEST_TEXT)\n",
    "\n",
    "    print('Version started at: {}. Latest object version: {}.'.format(\n",
    "        version_1, version_2))\n",
    "\n",
    "    # Get the object\n",
    "    object_fd = get_object(client, bucket, 'test')\n",
    "    object_content = object_fd.read()\n",
    "\n",
    "    print('Body of object: \"{}\"'.format(\n",
    "        object_content))\n",
    "\n",
    "    print('Put content matches retrieved content: {}'.format(\n",
    "        object_content == TEST_TEXT))\n",
    "\n",
    "    # List the objects in the bucket now\n",
    "    print('Listing objects...')\n",
    "    for key in list_objects(client, bucket):\n",
    "        print(key)\n",
    "\n",
    "    # Delete the object we put\n",
    "    del_version = delete_object(client, bucket, 'test')\n",
    "\n",
    "    print('Deleted object. Version is now: {}'.format(del_version))\n"
   ]
  },
  {
   "cell_type": "code",
   "execution_count": 30,
   "metadata": {
    "collapsed": false
   },
   "outputs": [
    {
     "ename": "ValueError",
     "evalue": "Invalid endpoint: ",
     "output_type": "error",
     "traceback": [
      "\u001b[0;31m---------------------------------------------------------------------------\u001b[0m",
      "\u001b[0;31mValueError\u001b[0m                                Traceback (most recent call last)",
      "\u001b[0;32m<ipython-input-30-5380031a9bce>\u001b[0m in \u001b[0;36m<module>\u001b[0;34m()\u001b[0m\n\u001b[1;32m      5\u001b[0m         \u001b[0maccess_key\u001b[0m\u001b[0;34m=\u001b[0m\u001b[0;34m''\u001b[0m\u001b[0;34m,\u001b[0m\u001b[0;34m\u001b[0m\u001b[0m\n\u001b[1;32m      6\u001b[0m         \u001b[0msecret_key\u001b[0m\u001b[0;34m=\u001b[0m\u001b[0;34m''\u001b[0m\u001b[0;34m,\u001b[0m\u001b[0;34m\u001b[0m\u001b[0m\n\u001b[0;32m----> 7\u001b[0;31m         endpoint_url='')\n\u001b[0m",
      "\u001b[0;32m<ipython-input-29-23459e7ceab1>\u001b[0m in \u001b[0;36mrun_example\u001b[0;34m(bucket, access_key, secret_key, endpoint_url)\u001b[0m\n\u001b[1;32m      2\u001b[0m \u001b[0;34m\u001b[0m\u001b[0m\n\u001b[1;32m      3\u001b[0m     \u001b[0;31m# Create a new client to play with\u001b[0m\u001b[0;34m\u001b[0m\u001b[0;34m\u001b[0m\u001b[0m\n\u001b[0;32m----> 4\u001b[0;31m     \u001b[0mclient\u001b[0m \u001b[0;34m=\u001b[0m \u001b[0mboto3_s3_client\u001b[0m\u001b[0;34m(\u001b[0m\u001b[0maccess_key\u001b[0m\u001b[0;34m,\u001b[0m \u001b[0msecret_key\u001b[0m\u001b[0;34m,\u001b[0m \u001b[0mendpoint_url\u001b[0m\u001b[0;34m)\u001b[0m\u001b[0;34m\u001b[0m\u001b[0m\n\u001b[0m\u001b[1;32m      5\u001b[0m \u001b[0;34m\u001b[0m\u001b[0m\n\u001b[1;32m      6\u001b[0m     \u001b[0;31m# List the buckets to see what's in the root context\u001b[0m\u001b[0;34m\u001b[0m\u001b[0;34m\u001b[0m\u001b[0m\n",
      "\u001b[0;32m<ipython-input-23-4b4ac17dab63>\u001b[0m in \u001b[0;36mboto3_s3_client\u001b[0;34m(access_key, secret_key, endpoint_url)\u001b[0m\n\u001b[1;32m     12\u001b[0m             \u001b[0msignature_version\u001b[0m\u001b[0;34m=\u001b[0m\u001b[0;34m's3'\u001b[0m\u001b[0;34m,\u001b[0m\u001b[0;34m\u001b[0m\u001b[0m\n\u001b[1;32m     13\u001b[0m             s3={\n\u001b[0;32m---> 14\u001b[0;31m                 \u001b[0;34m'addressing_style'\u001b[0m\u001b[0;34m:\u001b[0m \u001b[0;34m'path'\u001b[0m\u001b[0;34m\u001b[0m\u001b[0m\n\u001b[0m\u001b[1;32m     15\u001b[0m             }\n\u001b[1;32m     16\u001b[0m         ))\n",
      "\u001b[0;32m/usr/local/lib/python2.7/site-packages/boto3/session.pyc\u001b[0m in \u001b[0;36mclient\u001b[0;34m(self, service_name, region_name, api_version, use_ssl, verify, endpoint_url, aws_access_key_id, aws_secret_access_key, aws_session_token, config)\u001b[0m\n\u001b[1;32m    238\u001b[0m             \u001b[0maws_access_key_id\u001b[0m\u001b[0;34m=\u001b[0m\u001b[0maws_access_key_id\u001b[0m\u001b[0;34m,\u001b[0m\u001b[0;34m\u001b[0m\u001b[0m\n\u001b[1;32m    239\u001b[0m             \u001b[0maws_secret_access_key\u001b[0m\u001b[0;34m=\u001b[0m\u001b[0maws_secret_access_key\u001b[0m\u001b[0;34m,\u001b[0m\u001b[0;34m\u001b[0m\u001b[0m\n\u001b[0;32m--> 240\u001b[0;31m             aws_session_token=aws_session_token, config=config)\n\u001b[0m\u001b[1;32m    241\u001b[0m \u001b[0;34m\u001b[0m\u001b[0m\n\u001b[1;32m    242\u001b[0m     def resource(self, service_name, region_name=None, api_version=None,\n",
      "\u001b[0;32m/usr/local/lib/python2.7/site-packages/botocore/session.pyc\u001b[0m in \u001b[0;36mcreate_client\u001b[0;34m(self, service_name, region_name, api_version, use_ssl, verify, endpoint_url, aws_access_key_id, aws_secret_access_key, aws_session_token, config)\u001b[0m\n\u001b[1;32m    815\u001b[0m             \u001b[0mis_secure\u001b[0m\u001b[0;34m=\u001b[0m\u001b[0muse_ssl\u001b[0m\u001b[0;34m,\u001b[0m \u001b[0mendpoint_url\u001b[0m\u001b[0;34m=\u001b[0m\u001b[0mendpoint_url\u001b[0m\u001b[0;34m,\u001b[0m \u001b[0mverify\u001b[0m\u001b[0;34m=\u001b[0m\u001b[0mverify\u001b[0m\u001b[0;34m,\u001b[0m\u001b[0;34m\u001b[0m\u001b[0m\n\u001b[1;32m    816\u001b[0m             \u001b[0mcredentials\u001b[0m\u001b[0;34m=\u001b[0m\u001b[0mcredentials\u001b[0m\u001b[0;34m,\u001b[0m \u001b[0mscoped_config\u001b[0m\u001b[0;34m=\u001b[0m\u001b[0mself\u001b[0m\u001b[0;34m.\u001b[0m\u001b[0mget_scoped_config\u001b[0m\u001b[0;34m(\u001b[0m\u001b[0;34m)\u001b[0m\u001b[0;34m,\u001b[0m\u001b[0;34m\u001b[0m\u001b[0m\n\u001b[0;32m--> 817\u001b[0;31m             client_config=config, api_version=api_version)\n\u001b[0m\u001b[1;32m    818\u001b[0m         \u001b[0;32mreturn\u001b[0m \u001b[0mclient\u001b[0m\u001b[0;34m\u001b[0m\u001b[0m\n\u001b[1;32m    819\u001b[0m \u001b[0;34m\u001b[0m\u001b[0m\n",
      "\u001b[0;32m/usr/local/lib/python2.7/site-packages/botocore/client.pyc\u001b[0m in \u001b[0;36mcreate_client\u001b[0;34m(self, service_name, region_name, is_secure, endpoint_url, verify, credentials, scoped_config, api_version, client_config)\u001b[0m\n\u001b[1;32m     63\u001b[0m         client_args = self._get_client_args(\n\u001b[1;32m     64\u001b[0m             \u001b[0mservice_model\u001b[0m\u001b[0;34m,\u001b[0m \u001b[0mregion_name\u001b[0m\u001b[0;34m,\u001b[0m \u001b[0mis_secure\u001b[0m\u001b[0;34m,\u001b[0m \u001b[0mendpoint_url\u001b[0m\u001b[0;34m,\u001b[0m\u001b[0;34m\u001b[0m\u001b[0m\n\u001b[0;32m---> 65\u001b[0;31m             verify, credentials, scoped_config, client_config)\n\u001b[0m\u001b[1;32m     66\u001b[0m         \u001b[0;32mreturn\u001b[0m \u001b[0mcls\u001b[0m\u001b[0;34m(\u001b[0m\u001b[0;34m**\u001b[0m\u001b[0mclient_args\u001b[0m\u001b[0;34m)\u001b[0m\u001b[0;34m\u001b[0m\u001b[0m\n\u001b[1;32m     67\u001b[0m \u001b[0;34m\u001b[0m\u001b[0m\n",
      "\u001b[0;32m/usr/local/lib/python2.7/site-packages/botocore/client.pyc\u001b[0m in \u001b[0;36m_get_client_args\u001b[0;34m(self, service_model, region_name, is_secure, endpoint_url, verify, credentials, scoped_config, client_config)\u001b[0m\n\u001b[1;32m    216\u001b[0m             \u001b[0mendpoint_url\u001b[0m\u001b[0;34m=\u001b[0m\u001b[0mendpoint_config\u001b[0m\u001b[0;34m[\u001b[0m\u001b[0;34m'endpoint_url'\u001b[0m\u001b[0;34m]\u001b[0m\u001b[0;34m,\u001b[0m \u001b[0mverify\u001b[0m\u001b[0;34m=\u001b[0m\u001b[0mverify\u001b[0m\u001b[0;34m,\u001b[0m\u001b[0;34m\u001b[0m\u001b[0m\n\u001b[1;32m    217\u001b[0m             \u001b[0mresponse_parser_factory\u001b[0m\u001b[0;34m=\u001b[0m\u001b[0mself\u001b[0m\u001b[0;34m.\u001b[0m\u001b[0m_response_parser_factory\u001b[0m\u001b[0;34m,\u001b[0m\u001b[0;34m\u001b[0m\u001b[0m\n\u001b[0;32m--> 218\u001b[0;31m             timeout=(new_config.connect_timeout, new_config.read_timeout))\n\u001b[0m\u001b[1;32m    219\u001b[0m \u001b[0;34m\u001b[0m\u001b[0m\n\u001b[1;32m    220\u001b[0m         return {\n",
      "\u001b[0;32m/usr/local/lib/python2.7/site-packages/botocore/endpoint.pyc\u001b[0m in \u001b[0;36mcreate_endpoint\u001b[0;34m(self, service_model, region_name, endpoint_url, verify, response_parser_factory, timeout)\u001b[0m\n\u001b[1;32m    238\u001b[0m                         timeout=DEFAULT_TIMEOUT):\n\u001b[1;32m    239\u001b[0m         \u001b[0;32mif\u001b[0m \u001b[0;32mnot\u001b[0m \u001b[0mis_valid_endpoint_url\u001b[0m\u001b[0;34m(\u001b[0m\u001b[0mendpoint_url\u001b[0m\u001b[0;34m)\u001b[0m\u001b[0;34m:\u001b[0m\u001b[0;34m\u001b[0m\u001b[0m\n\u001b[0;32m--> 240\u001b[0;31m             \u001b[0;32mraise\u001b[0m \u001b[0mValueError\u001b[0m\u001b[0;34m(\u001b[0m\u001b[0;34m\"Invalid endpoint: %s\"\u001b[0m \u001b[0;34m%\u001b[0m \u001b[0mendpoint_url\u001b[0m\u001b[0;34m)\u001b[0m\u001b[0;34m\u001b[0m\u001b[0m\n\u001b[0m\u001b[1;32m    241\u001b[0m         return Endpoint(\n\u001b[1;32m    242\u001b[0m             \u001b[0mendpoint_url\u001b[0m\u001b[0;34m,\u001b[0m\u001b[0;34m\u001b[0m\u001b[0m\n",
      "\u001b[0;31mValueError\u001b[0m: Invalid endpoint: "
     ]
    }
   ],
   "source": [
    "# Run the example!\n",
    "if __name__ == '__main__':\n",
    "    run_example(\n",
    "        bucket='',\n",
    "        access_key='',\n",
    "        secret_key='',\n",
    "        endpoint_url='')"
   ]
  }
 ],
 "metadata": {
  "kernelspec": {
   "display_name": "Python 2",
   "language": "python",
   "name": "python2"
  },
  "language_info": {
   "codemirror_mode": {
    "name": "ipython",
    "version": 2
   },
   "file_extension": ".py",
   "mimetype": "text/x-python",
   "name": "python",
   "nbconvert_exporter": "python",
   "pygments_lexer": "ipython2",
   "version": "2.7.11"
  }
 },
 "nbformat": 4,
 "nbformat_minor": 0
}
