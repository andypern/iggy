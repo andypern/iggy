{
 "cells": [
  {
   "cell_type": "code",
   "execution_count": 2,
   "metadata": {
    "collapsed": false
   },
   "outputs": [],
   "source": [
    "import boto3\n",
    "\n",
    "import os\n",
    "import sys\n",
    "from botocore.exceptions import ClientError\n",
    "\n",
    "#\n",
    "#set variables\n",
    "#\n",
    "\n",
    "endpoint= 'http://test.test.com:7070'\n",
    "access_key = 'ABCDEF'\n",
    "secret_key = 'ABCDEF'\n",
    "\n",
    "#\n",
    "#build the connection object\n",
    "#\n",
    "\n",
    "\n",
    "s3client = boto3.client('s3',\n",
    "        aws_access_key_id = access_key,\n",
    "        aws_secret_access_key = secret_key,\n",
    "        endpoint_url= endpoint,\n",
    "        #region_name is needed for s3v4. can be pretend.\n",
    "        region_name=\"iggy-1\",\n",
    "        use_ssl=False,\n",
    "        verify=False,\n",
    "        config=boto3.session.Config(\n",
    "            #set signature_version to either s3 or s3v4\n",
    "            #note: if you set to s3v4 you need to set a 'region_name'\n",
    "            signature_version='s3',\n",
    "            connect_timeout=60,\n",
    "            read_timeout=60,\n",
    "            #addressing style must be set to 'path'\n",
    "            s3={'addressing_style': 'path'})\n",
    "        )\n",
    "\n",
    "#\n",
    "#once you have a connection, you can do things, like list buckets\n",
    "#\n",
    "\n",
    "def head_bucket(cName):\n",
    "\n",
    "\ttry:\n",
    "\t\tresponse = s3client.head_bucket(Bucket=cName)\n",
    "\t\tprintsuccess(method,response)\n",
    "\texcept botocore.exceptions.ClientError as e:\n",
    "\t\tprint e.response\n",
    "\t\t#error_code = int(e.response['Error']['Code'])\n",
    "\n",
    "        \n",
    "def list_objects(cName):\t\t \n",
    "    #list what's inside\n",
    "    method = 'list_objects'\n",
    "    try:\n",
    "        objList = s3client.list_objects(\n",
    "        Bucket=cName,\n",
    "        MaxKeys=100)\n",
    "        return objList\n",
    "    except botocore.exceptions.ClientError as e:\n",
    "        print e.response\n"
   ]
  },
  {
   "cell_type": "code",
   "execution_count": 2,
   "metadata": {
    "collapsed": false
   },
   "outputs": [
    {
     "name": "stdout",
     "output_type": "stream",
     "text": [
      "hi\n"
     ]
    }
   ],
   "source": [
    "print \"hi\""
   ]
  },
  {
   "cell_type": "code",
   "execution_count": null,
   "metadata": {
    "collapsed": true
   },
   "outputs": [],
   "source": []
  }
 ],
 "metadata": {
  "kernelspec": {
   "display_name": "Python 2",
   "language": "python",
   "name": "python2"
  },
  "language_info": {
   "codemirror_mode": {
    "name": "ipython",
    "version": 2
   },
   "file_extension": ".py",
   "mimetype": "text/x-python",
   "name": "python",
   "nbconvert_exporter": "python",
   "pygments_lexer": "ipython2",
   "version": "2.7.11"
  }
 },
 "nbformat": 4,
 "nbformat_minor": 0
}
